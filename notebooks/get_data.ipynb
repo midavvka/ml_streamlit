{
 "cells": [
  {
   "cell_type": "code",
   "execution_count": 3,
   "metadata": {},
   "outputs": [
    {
     "name": "stderr",
     "output_type": "stream",
     "text": [
      "/home/vadim/.local/lib/python3.8/site-packages/yfinance/base.py:48: FutureWarning: The default dtype for empty Series will be 'object' instead of 'float64' in a future version. Specify a dtype explicitly to silence this warning.\n",
      "  _empty_series = pd.Series()\n"
     ]
    }
   ],
   "source": [
    "import yfinance as yf"
   ]
  },
  {
   "cell_type": "code",
   "execution_count": 2,
   "metadata": {},
   "outputs": [
    {
     "name": "stdout",
     "output_type": "stream",
     "text": [
      "Defaulting to user installation because normal site-packages is not writeable\n",
      "Collecting yfinance\n",
      "  Using cached yfinance-0.2.36-py2.py3-none-any.whl (72 kB)\n",
      "Collecting appdirs>=1.4.4\n",
      "  Using cached appdirs-1.4.4-py2.py3-none-any.whl (9.6 kB)\n",
      "Collecting frozendict>=2.3.4\n",
      "  Using cached frozendict-2.4.0-cp38-cp38-manylinux_2_17_x86_64.manylinux2014_x86_64.whl (114 kB)\n",
      "Collecting peewee>=3.16.2\n",
      "  Using cached peewee-3.17.1.tar.gz (3.0 MB)\n",
      "  Installing build dependencies ... \u001b[?25ldone\n",
      "\u001b[?25h  Getting requirements to build wheel ... \u001b[?25ldone\n",
      "\u001b[?25h  Preparing metadata (pyproject.toml) ... \u001b[?25ldone\n",
      "\u001b[?25hRequirement already satisfied: pandas>=1.3.0 in /home/vadim/.local/lib/python3.8/site-packages (from yfinance) (1.4.3)\n",
      "Collecting beautifulsoup4>=4.11.1\n",
      "  Using cached beautifulsoup4-4.12.3-py3-none-any.whl (147 kB)\n",
      "Collecting html5lib>=1.1\n",
      "  Using cached html5lib-1.1-py2.py3-none-any.whl (112 kB)\n",
      "Requirement already satisfied: lxml>=4.9.1 in /home/vadim/.local/lib/python3.8/site-packages (from yfinance) (4.9.2)\n",
      "Requirement already satisfied: numpy>=1.16.5 in /home/vadim/.local/lib/python3.8/site-packages (from yfinance) (1.22.4)\n",
      "Collecting multitasking>=0.0.7\n",
      "  Using cached multitasking-0.0.11-py3-none-any.whl (8.5 kB)\n",
      "Collecting requests>=2.31\n",
      "  Using cached requests-2.31.0-py3-none-any.whl (62 kB)\n",
      "Collecting pytz>=2022.5\n",
      "  Using cached pytz-2024.1-py2.py3-none-any.whl (505 kB)\n",
      "Requirement already satisfied: soupsieve>1.2 in /usr/lib/python3/dist-packages (from beautifulsoup4>=4.11.1->yfinance) (1.9.5)\n",
      "Requirement already satisfied: six>=1.9 in /usr/lib/python3/dist-packages (from html5lib>=1.1->yfinance) (1.14.0)\n",
      "Requirement already satisfied: webencodings in /usr/lib/python3/dist-packages (from html5lib>=1.1->yfinance) (0.5.1)\n",
      "Requirement already satisfied: python-dateutil>=2.8.1 in /home/vadim/.local/lib/python3.8/site-packages (from pandas>=1.3.0->yfinance) (2.8.2)\n",
      "Requirement already satisfied: urllib3<3,>=1.21.1 in /usr/lib/python3/dist-packages (from requests>=2.31->yfinance) (1.25.8)\n",
      "Requirement already satisfied: certifi>=2017.4.17 in /usr/lib/python3/dist-packages (from requests>=2.31->yfinance) (2019.11.28)\n",
      "Requirement already satisfied: charset-normalizer<4,>=2 in /home/vadim/.local/lib/python3.8/site-packages (from requests>=2.31->yfinance) (3.1.0)\n",
      "Requirement already satisfied: idna<4,>=2.5 in /usr/lib/python3/dist-packages (from requests>=2.31->yfinance) (2.8)\n",
      "Building wheels for collected packages: peewee\n",
      "  Building wheel for peewee (pyproject.toml) ... \u001b[?25ldone\n",
      "\u001b[?25h  Created wheel for peewee: filename=peewee-3.17.1-py3-none-any.whl size=136905 sha256=fbb19704537f2ee0a5999002f6b2e5adc0c4aaaf4e9750b2f5e162f15b6e34c9\n",
      "  Stored in directory: /home/vadim/.cache/pip/wheels/ec/e4/c5/f8374660a33998c824939bb432774cdb90bb1b254ea0920618\n",
      "Successfully built peewee\n",
      "Installing collected packages: pytz, peewee, multitasking, appdirs, requests, html5lib, frozendict, beautifulsoup4, yfinance\n",
      "  Attempting uninstall: pytz\n",
      "    Found existing installation: pytz 2022.1\n",
      "    Uninstalling pytz-2022.1:\n",
      "      Successfully uninstalled pytz-2022.1\n",
      "\u001b[31mERROR: pip's dependency resolver does not currently take into account all the packages that are installed. This behaviour is the source of the following dependency conflicts.\n",
      "konoha 4.6.5 requires importlib-metadata<4.0.0,>=3.7.0, but you have importlib-metadata 6.8.0 which is incompatible.\u001b[0m\u001b[31m\n",
      "\u001b[0mSuccessfully installed appdirs-1.4.4 beautifulsoup4-4.12.3 frozendict-2.4.0 html5lib-1.1 multitasking-0.0.11 peewee-3.17.1 pytz-2024.1 requests-2.31.0 yfinance-0.2.36\n",
      "\n",
      "\u001b[1m[\u001b[0m\u001b[34;49mnotice\u001b[0m\u001b[1;39;49m]\u001b[0m\u001b[39;49m A new release of pip available: \u001b[0m\u001b[31;49m22.3.1\u001b[0m\u001b[39;49m -> \u001b[0m\u001b[32;49m24.0\u001b[0m\n",
      "\u001b[1m[\u001b[0m\u001b[34;49mnotice\u001b[0m\u001b[1;39;49m]\u001b[0m\u001b[39;49m To update, run: \u001b[0m\u001b[32;49mpython3 -m pip install --upgrade pip\u001b[0m\n",
      "Note: you may need to restart the kernel to use updated packages.\n"
     ]
    }
   ],
   "source": [
    "%pip install yfinance"
   ]
  },
  {
   "cell_type": "code",
   "execution_count": 4,
   "metadata": {},
   "outputs": [],
   "source": [
    "from datetime import datetime\n",
    "from dateutil.relativedelta import relativedelta\n",
    "\n",
    "end_date = datetime.now()\n",
    "start_date = end_date.today() + relativedelta(months=-2)"
   ]
  },
  {
   "cell_type": "code",
   "execution_count": 5,
   "metadata": {},
   "outputs": [
    {
     "name": "stderr",
     "output_type": "stream",
     "text": [
      "[*********************100%%**********************]  1 of 1 completed\n"
     ]
    },
    {
     "data": {
      "text/html": [
       "<div>\n",
       "<style scoped>\n",
       "    .dataframe tbody tr th:only-of-type {\n",
       "        vertical-align: middle;\n",
       "    }\n",
       "\n",
       "    .dataframe tbody tr th {\n",
       "        vertical-align: top;\n",
       "    }\n",
       "\n",
       "    .dataframe thead th {\n",
       "        text-align: right;\n",
       "    }\n",
       "</style>\n",
       "<table border=\"1\" class=\"dataframe\">\n",
       "  <thead>\n",
       "    <tr style=\"text-align: right;\">\n",
       "      <th></th>\n",
       "      <th>Datetime</th>\n",
       "      <th>Open</th>\n",
       "      <th>High</th>\n",
       "      <th>Low</th>\n",
       "      <th>Close</th>\n",
       "      <th>Adj Close</th>\n",
       "      <th>Volume</th>\n",
       "    </tr>\n",
       "  </thead>\n",
       "  <tbody>\n",
       "    <tr>\n",
       "      <th>0</th>\n",
       "      <td>2023-12-21 18:00:00+00:00</td>\n",
       "      <td>43444.023438</td>\n",
       "      <td>43614.976562</td>\n",
       "      <td>43444.023438</td>\n",
       "      <td>43566.960938</td>\n",
       "      <td>43566.960938</td>\n",
       "      <td>0</td>\n",
       "    </tr>\n",
       "    <tr>\n",
       "      <th>1</th>\n",
       "      <td>2023-12-21 19:00:00+00:00</td>\n",
       "      <td>43574.800781</td>\n",
       "      <td>43818.304688</td>\n",
       "      <td>43421.488281</td>\n",
       "      <td>43560.082031</td>\n",
       "      <td>43560.082031</td>\n",
       "      <td>0</td>\n",
       "    </tr>\n",
       "    <tr>\n",
       "      <th>2</th>\n",
       "      <td>2023-12-21 20:00:00+00:00</td>\n",
       "      <td>43571.253906</td>\n",
       "      <td>43770.871094</td>\n",
       "      <td>43571.253906</td>\n",
       "      <td>43763.855469</td>\n",
       "      <td>43763.855469</td>\n",
       "      <td>0</td>\n",
       "    </tr>\n",
       "    <tr>\n",
       "      <th>3</th>\n",
       "      <td>2023-12-21 21:00:00+00:00</td>\n",
       "      <td>43755.382812</td>\n",
       "      <td>44116.496094</td>\n",
       "      <td>43741.046875</td>\n",
       "      <td>44000.812500</td>\n",
       "      <td>44000.812500</td>\n",
       "      <td>0</td>\n",
       "    </tr>\n",
       "    <tr>\n",
       "      <th>4</th>\n",
       "      <td>2023-12-21 22:00:00+00:00</td>\n",
       "      <td>43986.476562</td>\n",
       "      <td>44016.253906</td>\n",
       "      <td>43915.695312</td>\n",
       "      <td>43962.175781</td>\n",
       "      <td>43962.175781</td>\n",
       "      <td>0</td>\n",
       "    </tr>\n",
       "    <tr>\n",
       "      <th>...</th>\n",
       "      <td>...</td>\n",
       "      <td>...</td>\n",
       "      <td>...</td>\n",
       "      <td>...</td>\n",
       "      <td>...</td>\n",
       "      <td>...</td>\n",
       "      <td>...</td>\n",
       "    </tr>\n",
       "    <tr>\n",
       "      <th>1483</th>\n",
       "      <td>2024-02-21 13:00:00+00:00</td>\n",
       "      <td>51302.140625</td>\n",
       "      <td>51440.226562</td>\n",
       "      <td>50977.921875</td>\n",
       "      <td>51160.628906</td>\n",
       "      <td>51160.628906</td>\n",
       "      <td>0</td>\n",
       "    </tr>\n",
       "    <tr>\n",
       "      <th>1484</th>\n",
       "      <td>2024-02-21 14:00:00+00:00</td>\n",
       "      <td>51179.796875</td>\n",
       "      <td>51179.796875</td>\n",
       "      <td>50808.855469</td>\n",
       "      <td>50898.132812</td>\n",
       "      <td>50898.132812</td>\n",
       "      <td>0</td>\n",
       "    </tr>\n",
       "    <tr>\n",
       "      <th>1485</th>\n",
       "      <td>2024-02-21 15:00:00+00:00</td>\n",
       "      <td>50912.371094</td>\n",
       "      <td>51292.507812</td>\n",
       "      <td>50855.410156</td>\n",
       "      <td>51126.187500</td>\n",
       "      <td>51126.187500</td>\n",
       "      <td>29063168</td>\n",
       "    </tr>\n",
       "    <tr>\n",
       "      <th>1486</th>\n",
       "      <td>2024-02-21 16:00:00+00:00</td>\n",
       "      <td>51145.320312</td>\n",
       "      <td>51378.289062</td>\n",
       "      <td>51048.105469</td>\n",
       "      <td>51363.371094</td>\n",
       "      <td>51363.371094</td>\n",
       "      <td>233336832</td>\n",
       "    </tr>\n",
       "    <tr>\n",
       "      <th>1487</th>\n",
       "      <td>2024-02-21 17:00:00+00:00</td>\n",
       "      <td>51346.371094</td>\n",
       "      <td>51398.597656</td>\n",
       "      <td>51118.304688</td>\n",
       "      <td>51118.304688</td>\n",
       "      <td>51118.304688</td>\n",
       "      <td>0</td>\n",
       "    </tr>\n",
       "  </tbody>\n",
       "</table>\n",
       "<p>1488 rows × 7 columns</p>\n",
       "</div>"
      ],
      "text/plain": [
       "                      Datetime          Open          High           Low  \\\n",
       "0    2023-12-21 18:00:00+00:00  43444.023438  43614.976562  43444.023438   \n",
       "1    2023-12-21 19:00:00+00:00  43574.800781  43818.304688  43421.488281   \n",
       "2    2023-12-21 20:00:00+00:00  43571.253906  43770.871094  43571.253906   \n",
       "3    2023-12-21 21:00:00+00:00  43755.382812  44116.496094  43741.046875   \n",
       "4    2023-12-21 22:00:00+00:00  43986.476562  44016.253906  43915.695312   \n",
       "...                        ...           ...           ...           ...   \n",
       "1483 2024-02-21 13:00:00+00:00  51302.140625  51440.226562  50977.921875   \n",
       "1484 2024-02-21 14:00:00+00:00  51179.796875  51179.796875  50808.855469   \n",
       "1485 2024-02-21 15:00:00+00:00  50912.371094  51292.507812  50855.410156   \n",
       "1486 2024-02-21 16:00:00+00:00  51145.320312  51378.289062  51048.105469   \n",
       "1487 2024-02-21 17:00:00+00:00  51346.371094  51398.597656  51118.304688   \n",
       "\n",
       "             Close     Adj Close     Volume  \n",
       "0     43566.960938  43566.960938          0  \n",
       "1     43560.082031  43560.082031          0  \n",
       "2     43763.855469  43763.855469          0  \n",
       "3     44000.812500  44000.812500          0  \n",
       "4     43962.175781  43962.175781          0  \n",
       "...            ...           ...        ...  \n",
       "1483  51160.628906  51160.628906          0  \n",
       "1484  50898.132812  50898.132812          0  \n",
       "1485  51126.187500  51126.187500   29063168  \n",
       "1486  51363.371094  51363.371094  233336832  \n",
       "1487  51118.304688  51118.304688          0  \n",
       "\n",
       "[1488 rows x 7 columns]"
      ]
     },
     "execution_count": 5,
     "metadata": {},
     "output_type": "execute_result"
    }
   ],
   "source": [
    "ticker='BTC-USD'\n",
    "data = yf.download(tickers=ticker, start=start_date, end=end_date, interval = '1h')\n",
    "data.reset_index(inplace=True)\n",
    "data"
   ]
  },
  {
   "cell_type": "code",
   "execution_count": 6,
   "metadata": {},
   "outputs": [
    {
     "data": {
      "text/plain": [
       "<AxesSubplot:>"
      ]
     },
     "execution_count": 6,
     "metadata": {},
     "output_type": "execute_result"
    },
    {
     "data": {
      "image/png": "[encoded data removed]",
      "text/plain": [
       "<Figure size 432x288 with 1 Axes>"
      ]
     },
     "metadata": {
      "needs_background": "light"
     },
     "output_type": "display_data"
    }
   ],
   "source": [
    "data.Volume.plot()"
   ]
  },
  {
   "cell_type": "code",
   "execution_count": 7,
   "metadata": {},
   "outputs": [
    {
     "data": {
      "text/plain": [
       "<AxesSubplot:>"
      ]
     },
     "execution_count": 7,
     "metadata": {},
     "output_type": "execute_result"
    },
    {
     "data": {
      "image/png": "[encoded data removed]",
      "text/plain": [
       "<Figure size 432x288 with 1 Axes>"
      ]
     },
     "metadata": {
      "needs_background": "light"
     },
     "output_type": "display_data"
    }
   ],
   "source": [
    "data.Close.plot()"
   ]
  },
  {
   "cell_type": "code",
   "execution_count": null,
   "metadata": {},
   "outputs": [],
   "source": []
  }
 ],
 "metadata": {
  "kernelspec": {
   "display_name": "Python 3",
   "language": "python",
   "name": "python3"
  },
  "language_info": {
   "codemirror_mode": {
    "name": "ipython",
    "version": 3
   },
   "file_extension": ".py",
   "mimetype": "text/x-python",
   "name": "python",
   "nbconvert_exporter": "python",
   "pygments_lexer": "ipython3",
   "version": "3.8.10"
  }
 },
 "nbformat": 4,
 "nbformat_minor": 4
}
